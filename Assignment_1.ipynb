{
  "nbformat": 4,
  "nbformat_minor": 0,
  "metadata": {
    "colab": {
      "name": "Untitled0.ipynb",
      "provenance": [],
      "authorship_tag": "ABX9TyOigbcRNmC1hOZJDhIunZ8m",
      "include_colab_link": true
    },
    "kernelspec": {
      "name": "python3",
      "display_name": "Python 3"
    }
  },
  "cells": [
    {
      "cell_type": "markdown",
      "metadata": {
        "id": "view-in-github",
        "colab_type": "text"
      },
      "source": [
        "<a href=\"https://colab.research.google.com/github/upatel2/DL-CNN/blob/master/Assignment_1.ipynb\" target=\"_parent\"><img src=\"https://colab.research.google.com/assets/colab-badge.svg\" alt=\"Open In Colab\"/></a>"
      ]
    },
    {
      "cell_type": "markdown",
      "metadata": {
        "id": "3ZvEg4927AsD",
        "colab_type": "text"
      },
      "source": [
        "# 42028 - Deep Learning and Convolutional Neural Networks Autumn 2020\n",
        "# **Assignment 1**\n",
        "\n",
        "#### **1.0 Introduction** \n",
        "Machine Learning is one of the most emerging and powerful technology in today's era. The last few decades have seen a tremendous rise in 'Data', and it is of no use if we cannot find patterns hidden within it. Machine Learning helps find these patterns in a simpler way. Supervised Learning is one of Machine Learning's most common approach in which the computer learns from the data given to it to classify new observations. A major supervised learning problem is Image classification which finds characteristics of objects and labells them. This probelm is typically solved through Machine Learning or Deep Learning methods. The purpose of this report is to perform image classification and feature detection using traditional machine learning techniques. \n",
        "\n",
        "A dataset is provided consisting of MNIST (English Handwritten numerals) which are to be classified using different classifiers. \n",
        "\n",
        "The features used for classification were Histogram of oriented gradient filter (HOG) and Local binary pattern (LBP) descriptor. These features were appplied to the images to the Dataset and then trained and tested against three different classifiers namely, KNN, SVM and Neural Netowrks. \n",
        "\n",
        "#### **2.0 Dataset** \n",
        "\n",
        "We have been given the MINST dataset of handwritten digits with training sample \n",
        "\n",
        "\n",
        "\n"
      ]
    }
  ]
}